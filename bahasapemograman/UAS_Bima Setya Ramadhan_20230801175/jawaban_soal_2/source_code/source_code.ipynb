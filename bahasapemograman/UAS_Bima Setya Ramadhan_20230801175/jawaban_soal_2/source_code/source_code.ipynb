{
 "cells": [
  {
   "cell_type": "code",
   "execution_count": 1,
   "metadata": {},
   "outputs": [
    {
     "name": "stdout",
     "output_type": "stream",
     "text": [
      "Eksekusi blok finally selesai.\n",
      "Hasilnya adalah 5.0\n",
      "Eksekusi blok finally selesai.\n",
      "Error: Tidak bisa membagi dengan nol!\n",
      "Eksekusi blok finally selesai.\n",
      "Error: Input harus berupa angka!\n"
     ]
    }
   ],
   "source": [
    "def bagi(a, b):\n",
    "    try:\n",
    "        hasil = a / b\n",
    "    except ZeroDivisionError:\n",
    "        return \"Error: Tidak bisa membagi dengan nol!\"\n",
    "    except TypeError:\n",
    "        return \"Error: Input harus berupa angka!\"\n",
    "    else:\n",
    "        return f\"Hasilnya adalah {hasil}\"\n",
    "    finally:\n",
    "        print(\"Eksekusi blok finally selesai.\")\n",
    "\n",
    "# Contoh penggunaan fungsi dengan exception handling\n",
    "print(bagi(10, 2))   # Output: Hasilnya adalah 5.0\n",
    "print(bagi(10, 0))   # Output: Error: Tidak bisa membagi dengan nol!\n",
    "print(bagi(10, 'a')) # Output: Error: Input harus berupa angka!"
   ]
  }
 ],
 "metadata": {
  "kernelspec": {
   "display_name": "Python 3",
   "language": "python",
   "name": "python3"
  },
  "language_info": {
   "codemirror_mode": {
    "name": "ipython",
    "version": 3
   },
   "file_extension": ".py",
   "mimetype": "text/x-python",
   "name": "python",
   "nbconvert_exporter": "python",
   "pygments_lexer": "ipython3",
   "version": "3.10.12"
  }
 },
 "nbformat": 4,
 "nbformat_minor": 2
}
