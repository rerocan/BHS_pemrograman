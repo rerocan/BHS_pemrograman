{
 "cells": [
  {
   "cell_type": "code",
   "execution_count": 2,
   "metadata": {},
   "outputs": [
    {
     "name": "stderr",
     "output_type": "stream",
     "text": [
      "Exception in Tkinter callback\n",
      "Traceback (most recent call last):\n",
      "  File \"/usr/lib/python3.10/tkinter/__init__.py\", line 1921, in __call__\n",
      "    return self.func(*args)\n",
      "  File \"/tmp/ipykernel_15322/3230515668.py\", line 5, in on_button_click\n",
      "    messagebox.showinfo(\"Info\", \"Tombol diklik!\")\n",
      "  File \"/usr/lib/python3.10/tkinter/messagebox.py\", line 88, in showinfo\n",
      "    return _show(title, message, INFO, OK, **options)\n",
      "  File \"/usr/lib/python3.10/tkinter/messagebox.py\", line 76, in _show\n",
      "    res = Message(**options).show()\n",
      "  File \"/usr/lib/python3.10/tkinter/commondialog.py\", line 45, in show\n",
      "    s = master.tk.call(self.command, *master._options(self.options))\n",
      "_tkinter.TclError: can't invoke \"grab\" command: application has been destroyed\n"
     ]
    }
   ],
   "source": [
    "import tkinter as tk\n",
    "from tkinter import messagebox\n",
    "\n",
    "def on_button_click():\n",
    "    messagebox.showinfo(\"Info\", \"Tombol diklik!\")\n",
    "\n",
    "# Membuat instance dari Tkinter\n",
    "root = tk.Tk()\n",
    "\n",
    "# Menentukan judul jendela\n",
    "root.title(\"Contoh GUI dengan Tkinter\")\n",
    "\n",
    "# Menentukan ukuran jendela\n",
    "root.geometry(\"300x200\")\n",
    "\n",
    "# Membuat label\n",
    "label = tk.Label(root, text=\"Halo, ini adalah contoh GUI!\")\n",
    "label.pack(pady=10)\n",
    "\n",
    "# Membuat tombol\n",
    "button = tk.Button(root, text=\"Klik Saya\", command=on_button_click)\n",
    "button.pack(pady=10)\n",
    "\n",
    "# Menjalankan aplikasi\n",
    "root.mainloop()\n"
   ]
  }
 ],
 "metadata": {
  "kernelspec": {
   "display_name": "Python 3",
   "language": "python",
   "name": "python3"
  },
  "language_info": {
   "codemirror_mode": {
    "name": "ipython",
    "version": 3
   },
   "file_extension": ".py",
   "mimetype": "text/x-python",
   "name": "python",
   "nbconvert_exporter": "python",
   "pygments_lexer": "ipython3",
   "version": "3.10.12"
  }
 },
 "nbformat": 4,
 "nbformat_minor": 2
}
