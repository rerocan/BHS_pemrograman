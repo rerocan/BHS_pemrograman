{
 "cells": [
  {
   "cell_type": "code",
   "execution_count": 1,
   "metadata": {},
   "outputs": [
    {
     "name": "stdout",
     "output_type": "stream",
     "text": [
      "(1, 'Andi', 20)\n"
     ]
    }
   ],
   "source": [
    "import sqlite3\n",
    "\n",
    "# Membuat atau menghubungkan ke database\n",
    "conn = sqlite3.connect('contoh.db')\n",
    "cursor = conn.cursor()\n",
    "\n",
    "# Membuat tabel\n",
    "cursor.execute('''\n",
    "CREATE TABLE IF NOT EXISTS mahasiswa (\n",
    "    id INTEGER PRIMARY KEY,\n",
    "    nama TEXT NOT NULL,\n",
    "    umur INTEGER NOT NULL\n",
    ")\n",
    "''')\n",
    "\n",
    "# Menyisipkan data\n",
    "cursor.execute('''\n",
    "INSERT INTO mahasiswa (nama, umur)\n",
    "VALUES ('Andi', 20)\n",
    "''')\n",
    "conn.commit()\n",
    "\n",
    "# Mengambil data\n",
    "cursor.execute('SELECT * FROM mahasiswa')\n",
    "rows = cursor.fetchall()\n",
    "for row in rows:\n",
    "    print(row)\n",
    "\n",
    "# Menutup koneksi\n",
    "conn.close()\n"
   ]
  }
 ],
 "metadata": {
  "kernelspec": {
   "display_name": "Python 3",
   "language": "python",
   "name": "python3"
  },
  "language_info": {
   "codemirror_mode": {
    "name": "ipython",
    "version": 3
   },
   "file_extension": ".py",
   "mimetype": "text/x-python",
   "name": "python",
   "nbconvert_exporter": "python",
   "pygments_lexer": "ipython3",
   "version": "3.10.12"
  }
 },
 "nbformat": 4,
 "nbformat_minor": 2
}
