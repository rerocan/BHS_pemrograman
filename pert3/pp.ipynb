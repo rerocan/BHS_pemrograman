{
 "cells": [
  {
   "cell_type": "markdown",
   "metadata": {},
   "source": [
    "# PERT 3"
   ]
  },
  {
   "cell_type": "code",
   "execution_count": 2,
   "metadata": {},
   "outputs": [
    {
     "name": "stdout",
     "output_type": "stream",
     "text": [
      "blyat\n"
     ]
    }
   ],
   "source": [
    "a = \"blyat\"\n",
    "print (a)"
   ]
  },
  {
   "cell_type": "code",
   "execution_count": 3,
   "metadata": {},
   "outputs": [
    {
     "name": "stdout",
     "output_type": "stream",
     "text": [
      "grade : A\n"
     ]
    }
   ],
   "source": [
    "value=int (input(\"Masukan nilai :\"))\n",
    "if value >=90:\n",
    "    grade = \"A\"\n",
    "elif value >=80:\n",
    "    grade = \"B\"\n",
    "elif value >=70:\n",
    "    grade = \"C\"\n",
    "    \n",
    "print (f\"grade : {grade}\")"
   ]
  }
 ],
 "metadata": {
  "kernelspec": {
   "display_name": "Python 3",
   "language": "python",
   "name": "python3"
  },
  "language_info": {
   "codemirror_mode": {
    "name": "ipython",
    "version": 3
   },
   "file_extension": ".py",
   "mimetype": "text/x-python",
   "name": "python",
   "nbconvert_exporter": "python",
   "pygments_lexer": "ipython3",
   "version": "3.10.12"
  }
 },
 "nbformat": 4,
 "nbformat_minor": 2
}
